{
  "nbformat": 4,
  "nbformat_minor": 0,
  "metadata": {
    "colab": {
      "name": "Untitled0.ipynb",
      "provenance": [],
      "authorship_tag": "ABX9TyMfV/zNTyBo1cXNOcRNdZSi",
      "include_colab_link": true
    },
    "kernelspec": {
      "name": "python3",
      "display_name": "Python 3"
    },
    "language_info": {
      "name": "python"
    }
  },
  "cells": [
    {
      "cell_type": "markdown",
      "metadata": {
        "id": "view-in-github",
        "colab_type": "text"
      },
      "source": [
        "<a href=\"https://colab.research.google.com/github/MutNogueira/MutNogueira/blob/main/Untitled0.ipynb\" target=\"_parent\"><img src=\"https://colab.research.google.com/assets/colab-badge.svg\" alt=\"Open In Colab\"/></a>"
      ]
    },
    {
      "cell_type": "markdown",
      "source": [
        "Exercício 01 - Mostre na tela o produto entre 28 e 43."
      ],
      "metadata": {
        "id": "NIvdZe-MlmWW"
      }
    },
    {
      "cell_type": "code",
      "source": [
        "n1 =  int(28)\n",
        "n2 =  int(43)\n",
        "produto = n1 * n2\n",
        "print(\"O produto de 28 e 43 é:\",produto)\n"
      ],
      "metadata": {
        "colab": {
          "base_uri": "https://localhost:8080/",
          "height": 0
        },
        "id": "NmDivg0VlxEm",
        "outputId": "b5da64c4-ea7a-44c7-d0db-cc886ff55875"
      },
      "execution_count": 8,
      "outputs": [
        {
          "output_type": "stream",
          "name": "stdout",
          "text": [
            "O produto de 28 e 43 é: 1204\n"
          ]
        }
      ]
    },
    {
      "cell_type": "markdown",
      "source": [
        "2 - Lê dois números e mostra a soma. Antes do resultado, deverá aparecer a mensagem SOMA=."
      ],
      "metadata": {
        "id": "qw4dezc1LJSJ"
      }
    },
    {
      "cell_type": "code",
      "source": [
        "n1 = 0\n",
        "n2 = 0\n",
        "soma = float (n1) + float (n2) \n",
        "n1 = input(\"Digite o número 1:\")\n",
        "n2 = input(\"Digite o número 2:\")\n",
        "soma = float(n1) + float(n2)\n",
        "print(\"SOMA = \", soma)"
      ],
      "metadata": {
        "colab": {
          "base_uri": "https://localhost:8080/",
          "height": 0
        },
        "id": "1EUKehtNLrLt",
        "outputId": "d5db4c67-b197-4f64-be9b-ed8aa4fc036c"
      },
      "execution_count": 5,
      "outputs": [
        {
          "output_type": "stream",
          "name": "stdout",
          "text": [
            "Digite o número 1:8.5\n",
            "Digite o número 2:4.3\n",
            "SOMA =  12.8\n"
          ]
        }
      ]
    },
    {
      "cell_type": "markdown",
      "source": [
        "3 - Lê 3 números passados pelo usuário e mostra a média aritmética entre eles."
      ],
      "metadata": {
        "id": "QPfXn_2tNi9_"
      }
    },
    {
      "cell_type": "code",
      "source": [
        "n1 = 0\n",
        "n2 = 0\n",
        "n3 = 0\n",
        "media = 0 \n",
        "\n",
        "n1 = input(\"Digite o número 1: \")\n",
        "n2 = input(\"Digite o número 2: \")\n",
        "n3 = input(\"Digite o número 3: \")\n",
        "\n",
        "media = ((float(n1) + float(n2) + float(n3)) / 3.0)\n",
        "\n",
        "print(\"A média aritmética dos números é:\", media)\n",
        "\n"
      ],
      "metadata": {
        "colab": {
          "base_uri": "https://localhost:8080/",
          "height": 0
        },
        "id": "90G-AWI3N04n",
        "outputId": "477262dc-03df-446f-dfe8-545c374ec480"
      },
      "execution_count": 7,
      "outputs": [
        {
          "output_type": "stream",
          "name": "stdout",
          "text": [
            "Digite o número 1: 12.5\n",
            "Digite o número 2: 51.8\n",
            "Digite o número 3: 56.4\n",
            "A média aritmética dos números é: 40.23333333333333\n"
          ]
        }
      ]
    },
    {
      "cell_type": "markdown",
      "source": [
        "4 - Lê um número e mostra seu sucessor e seu antecessor na tela."
      ],
      "metadata": {
        "id": "phIY4Zr8PJmc"
      }
    },
    {
      "cell_type": "code",
      "source": [
        "n = float(input(\"Digite um número:\"))\n",
        "print(\"Analisando o valor {}, seu antecessor é {} e o seu sucessor é {}\".format(n, (n-1), (n+1)))"
      ],
      "metadata": {
        "colab": {
          "base_uri": "https://localhost:8080/",
          "height": 0
        },
        "id": "UkEMBbF9PYLx",
        "outputId": "a1baf2b0-3f79-498e-9390-7ed2a170a258"
      },
      "execution_count": 20,
      "outputs": [
        {
          "output_type": "stream",
          "name": "stdout",
          "text": [
            "Digite um número:7\n",
            "Analisando o valor 7.0, seu antecessor é 6.0 e o seu sucessor é 8.0\n"
          ]
        }
      ]
    },
    {
      "cell_type": "markdown",
      "source": [
        "5 - Lê um valor de hora e informa quantos minutos se passaram desde o inicio do dia."
      ],
      "metadata": {
        "id": "HaSruawERnXR"
      }
    },
    {
      "cell_type": "code",
      "source": [
        "n1 = 0\n",
        "n1 = input(\"Digite um valor de hora: \")\n",
        "minutos_dia = float(n1) * 60\n",
        "\n",
        "print(\"Desde o início do dia se passaram: \", minutos_dia, \"minutos\")\n"
      ],
      "metadata": {
        "colab": {
          "base_uri": "https://localhost:8080/",
          "height": 0
        },
        "id": "FGsRxfSxRzH9",
        "outputId": "616e5e43-965d-4895-aae1-9dc7ccbc44ce"
      },
      "execution_count": 14,
      "outputs": [
        {
          "output_type": "stream",
          "name": "stdout",
          "text": [
            "Digite um valor de hora: 4\n",
            "Desde o início do dia se passaram:  240.0 minutos\n"
          ]
        }
      ]
    }
  ]
}